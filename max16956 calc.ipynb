{
 "cells": [
  {
   "cell_type": "code",
   "execution_count": 12,
   "metadata": {},
   "outputs": [],
   "source": [
    "import math\n"
   ]
  },
  {
   "cell_type": "code",
   "execution_count": 43,
   "metadata": {},
   "outputs": [],
   "source": [
    "\n",
    "Vout = 5    # V\n",
    "Vsup = 20   # V\n",
    "\n",
    "Iout = 0.3  # mA\n",
    "LIR = 0.1 \n",
    "DCR = 0.17\n",
    "fsw = 2.25   # Mhz\n",
    "Vesr = 2    # Ohm\n",
    "Iload = 0.3 # A\n",
    "\n",
    "ESR = 0.1\n"
   ]
  },
  {
   "cell_type": "code",
   "execution_count": 44,
   "metadata": {},
   "outputs": [
    {
     "name": "stdout",
     "output_type": "stream",
     "text": [
      "L = 55.55555555555555\n",
      "Iripple = 0.03\n",
      "Isat = 55.57055555555555\n"
     ]
    }
   ],
   "source": [
    "L = (Vout * (Vsup - Vout)) / (Vsup * fsw * Iout * LIR)\n",
    "\n",
    "Iripple = Iout * LIR\n",
    "\n",
    "Isat = (Iripple / 2) + L\n",
    "\n",
    "print(\"L =\", L)\n",
    "print(\"Iripple =\", Iripple)\n",
    "print(\"Isat =\", Isat)"
   ]
  },
  {
   "cell_type": "code",
   "execution_count": 45,
   "metadata": {},
   "outputs": [
    {
     "name": "stdout",
     "output_type": "stream",
     "text": [
      "Irms = 0.1299038105676658\n",
      "DeltaIL = 0.030000000000000006\n",
      "ESRin = 6.0606060606060606\n",
      "D =  0.25\n",
      "Cin = 2.25e-05\n"
     ]
    }
   ],
   "source": [
    "\n",
    "# Calculate input capacitor \n",
    "Irms = Iload * (math.sqrt(Vout * (Vsup - Vout)) / Vsup )\n",
    "\n",
    "DeltaIL = ((Vsup - Vout) * Vout) / (Vsup * fsw * L)\n",
    "\n",
    "ESRin = Vesr / ( Iout + ( DeltaIL))\n",
    "\n",
    "D = Vout / Vsup\n",
    "\n",
    "Cin = (Iout * D * (1 - D)) / (Vsup * fsw * L)\n",
    "\n",
    "print(\"Irms =\", Irms)\n",
    "print(\"DeltaIL =\", DeltaIL)\n",
    "print(\"ESRin =\", ESRin)\n",
    "print(\"D = \", D)\n",
    "print(\"Cin =\", Cin)"
   ]
  },
  {
   "cell_type": "code",
   "execution_count": 46,
   "metadata": {},
   "outputs": [
    {
     "name": "stdout",
     "output_type": "stream",
     "text": [
      "Vripple = 0.003\n"
     ]
    }
   ],
   "source": [
    "# Calculate output cap\n",
    "\n",
    "Vripple = ESR * Iload * LIR\n",
    "\n",
    "print(\"Vripple =\", Vripple)"
   ]
  }
 ],
 "metadata": {
  "interpreter": {
   "hash": "b89b5cfaba6639976dc87ff2fec6d58faec662063367e2c229c520fe71072417"
  },
  "kernelspec": {
   "display_name": "Python 3.10.0 64-bit",
   "language": "python",
   "name": "python3"
  },
  "language_info": {
   "codemirror_mode": {
    "name": "ipython",
    "version": 3
   },
   "file_extension": ".py",
   "mimetype": "text/x-python",
   "name": "python",
   "nbconvert_exporter": "python",
   "pygments_lexer": "ipython3",
   "version": "3.10.0"
  },
  "orig_nbformat": 4
 },
 "nbformat": 4,
 "nbformat_minor": 2
}
