{
 "cells": [
  {
   "cell_type": "code",
   "execution_count": 12,
   "metadata": {},
   "outputs": [],
   "source": [
    "import math\n"
   ]
  },
  {
   "cell_type": "code",
   "execution_count": 27,
   "metadata": {},
   "outputs": [],
   "source": [
    "\n",
    "Vout = 5    # V\n",
    "Vsup = 20   # V\n",
    "\n",
    "Iout = 300  # mA\n",
    "LIR = 0.1 \n",
    "DCR = 0.17\n",
    "fsw = 3.1   # Mhz\n",
    "Vesr = 2    # Ohm\n",
    "Iload = 0.3 # A\n",
    "\n",
    "ESR = 0.01\n"
   ]
  },
  {
   "cell_type": "code",
   "execution_count": 28,
   "metadata": {},
   "outputs": [
    {
     "name": "stdout",
     "output_type": "stream",
     "text": [
      "L = 0.013440860215053764\n",
      "Iripple = 90.0\n",
      "Isat = 45.013440860215056\n"
     ]
    }
   ],
   "source": [
    "L = (Vout * (Vsup - Vout)) / (Vsup * fsw * Iout * LIR)\n",
    "\n",
    "Iripple = Iout * LIR\n",
    "\n",
    "Isat = (Iripple / 2) + L\n",
    "\n",
    "print(\"L =\", L)\n",
    "print(\"Iripple =\", Iripple)\n",
    "print(\"Isat =\", Isat)"
   ]
  },
  {
   "cell_type": "code",
   "execution_count": 23,
   "metadata": {},
   "outputs": [
    {
     "name": "stdout",
     "output_type": "stream",
     "text": [
      "Irms = 0.14374722712498647\n",
      "DeltaIL = 30.0\n",
      "ESRin = 0.006060606060606061\n",
      "D =  0.35714285714285715\n",
      "Cin = 45.918367346938766\n"
     ]
    }
   ],
   "source": [
    "\n",
    "# Calculate input capacitor \n",
    "Irms = Iload * (math.sqrt(Vout * (Vsup - Vout)) / Vsup )\n",
    "\n",
    "DeltaIL = ((Vsup - Vout) * Vout) / (Vsup * fsw * L)\n",
    "\n",
    "ESRin = Vesr / ( Iout + ( DeltaIL))\n",
    "\n",
    "D = Vout / Vsup\n",
    "\n",
    "Cin = (Iout * D * (1 - D)) / (Vsup * fsw * L)\n",
    "\n",
    "print(\"Irms =\", Irms)\n",
    "print(\"DeltaIL =\", DeltaIL)\n",
    "print(\"ESRin =\", ESRin)\n",
    "print(\"D = \", D)\n",
    "print(\"Cin =\", Cin)"
   ]
  },
  {
   "cell_type": "code",
   "execution_count": 24,
   "metadata": {},
   "outputs": [
    {
     "name": "stdout",
     "output_type": "stream",
     "text": [
      "Vripple = 0.00030000000000000003\n"
     ]
    }
   ],
   "source": [
    "# Calculate output cap\n",
    "\n",
    "Vripple = ESR * Iload * LIR\n",
    "\n",
    "print(\"Vripple =\", Vripple)"
   ]
  }
 ],
 "metadata": {
  "interpreter": {
   "hash": "b89b5cfaba6639976dc87ff2fec6d58faec662063367e2c229c520fe71072417"
  },
  "kernelspec": {
   "display_name": "Python 3.10.0 64-bit",
   "language": "python",
   "name": "python3"
  },
  "language_info": {
   "codemirror_mode": {
    "name": "ipython",
    "version": 3
   },
   "file_extension": ".py",
   "mimetype": "text/x-python",
   "name": "python",
   "nbconvert_exporter": "python",
   "pygments_lexer": "ipython3",
   "version": "3.10.0"
  },
  "orig_nbformat": 4
 },
 "nbformat": 4,
 "nbformat_minor": 2
}
